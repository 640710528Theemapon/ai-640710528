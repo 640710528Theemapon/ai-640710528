{
  "nbformat": 4,
  "nbformat_minor": 0,
  "metadata": {
    "colab": {
      "provenance": []
    },
    "kernelspec": {
      "name": "python3",
      "display_name": "Python 3"
    },
    "language_info": {
      "name": "python"
    }
  },
  "cells": [
    {
      "cell_type": "markdown",
      "source": [
        "640710528 ธีมาพร ทรัพย์มูล - Ai"
      ],
      "metadata": {
        "id": "CSIVW6aSymx7"
      }
    },
    {
      "cell_type": "code",
      "source": [
        "import pandas as pd\n",
        "import numpy as np"
      ],
      "metadata": {
        "id": "zi8i7-yDWemz"
      },
      "execution_count": 79,
      "outputs": []
    },
    {
      "cell_type": "code",
      "source": [
        "# สร้าง DataFrame หลัก\n",
        "\n",
        "df_master = pd.read_csv('student.csv')"
      ],
      "metadata": {
        "id": "z97YNAwXt3Fz"
      },
      "execution_count": 80,
      "outputs": []
    },
    {
      "cell_type": "code",
      "source": [
        "# ดูข้อมูลเบื้องต้น\n",
        "\n",
        "print('แสดงข้อมูลทั่วไปของ DataFrame: ')\n",
        "print(df_master.info())\n",
        "print('\\n')\n",
        "\n",
        "print('แสดงสถิติพื้นฐานของคอลัมน์ตัวเลข')\n",
        "print(df_master.describe())\n",
        "print('\\n')\n",
        "\n",
        "print('แสดง 5 แถวแรกของข้อมูล (default) เพื่อดูตัวอย่างข้อมูล')\n",
        "print(df_master.head())\n",
        "print('\\n')\n"
      ],
      "metadata": {
        "colab": {
          "base_uri": "https://localhost:8080/"
        },
        "id": "l1tA7EaCWekK",
        "outputId": "186beaa8-1df3-40bb-b7bc-7a753b4fb1d1"
      },
      "execution_count": 68,
      "outputs": [
        {
          "output_type": "stream",
          "name": "stdout",
          "text": [
            "แสดงข้อมูลทั่วไปของ DataFrame: \n",
            "<class 'pandas.core.frame.DataFrame'>\n",
            "RangeIndex: 20 entries, 0 to 19\n",
            "Data columns (total 10 columns):\n",
            " #   Column                   Non-Null Count  Dtype         \n",
            "---  ------                   --------------  -----         \n",
            " 0   รหัสนักศึกษา             20 non-null     int64         \n",
            " 1   ชื่อ                     20 non-null     object        \n",
            " 2   อายุ                     17 non-null     float64       \n",
            " 3   เพศ                      18 non-null     object        \n",
            " 4   คณะ                      18 non-null     object        \n",
            " 5   GPA                      18 non-null     float64       \n",
            " 6   ส่วนสูง_cm               19 non-null     float64       \n",
            " 7   น้ำหนัก_kg               18 non-null     float64       \n",
            " 8   ชั่วโมงเรียน_ต่อสัปดาห์  18 non-null     float64       \n",
            " 9   วันที่ลงทะเบียน          20 non-null     datetime64[ns]\n",
            "dtypes: datetime64[ns](1), float64(5), int64(1), object(3)\n",
            "memory usage: 1.7+ KB\n",
            "None\n",
            "\n",
            "\n",
            "แสดงสถิติพื้นฐานของคอลัมน์ตัวเลข\n",
            "       รหัสนักศึกษา        อายุ        GPA  ส่วนสูง_cm  น้ำหนัก_kg  \\\n",
            "count      20.00000   17.000000  18.000000   19.000000   18.000000   \n",
            "mean    64010.50000   28.470588   3.246111  167.684211   63.611111   \n",
            "min     64001.00000   19.000000  -1.000000  158.000000   48.000000   \n",
            "25%     64005.75000   20.000000   3.215000  163.500000   55.250000   \n",
            "50%     64010.50000   21.000000   3.450000  168.000000   63.000000   \n",
            "75%     64015.25000   22.000000   3.670000  171.500000   71.500000   \n",
            "max     64020.00000  150.000000   4.500000  180.000000   82.000000   \n",
            "std         5.91608   31.337114   1.123326    5.706260   10.279270   \n",
            "\n",
            "       ชั่วโมงเรียน_ต่อสัปดาห์      วันที่ลงทะเบียน  \n",
            "count                18.000000                   20  \n",
            "mean                 21.388889  2024-01-13 14:24:00  \n",
            "min                  10.000000  2023-12-16 00:00:00  \n",
            "25%                  16.500000  2024-01-01 12:00:00  \n",
            "50%                  21.500000  2024-01-14 12:00:00  \n",
            "75%                  25.750000  2024-01-26 12:00:00  \n",
            "max                  35.000000  2024-02-07 00:00:00  \n",
            "std                   6.598920                  NaN  \n",
            "\n",
            "\n",
            "แสดง 5 แถวแรกของข้อมูล (default) เพื่อดูตัวอย่างข้อมูล\n",
            "   รหัสนักศึกษา      ชื่อ  อายุ   เพศ             คณะ   GPA  ส่วนสูง_cm  \\\n",
            "0         64001     สมชาย  20.0   ชาย     วิทยาศาสตร์  3.21       170.0   \n",
            "1         64002    สมหญิง  21.0  หญิง           วิทย์  3.45       165.0   \n",
            "2         64003   ไม่ระบุ   NaN  Male         Science  3.67       175.0   \n",
            "3         64004  สมศักดิ์  22.0     ช  คณะวิทยาศาสตร์ -1.00       168.0   \n",
            "4         64005      สมใจ  19.0     ญ           วิศวะ  3.89       160.0   \n",
            "\n",
            "   น้ำหนัก_kg  ชั่วโมงเรียน_ต่อสัปดาห์ วันที่ลงทะเบียน  \n",
            "0        65.0                     15.0      2023-12-31  \n",
            "1        58.0                     20.0      2023-12-16  \n",
            "2         NaN                     25.0      2024-01-02  \n",
            "3        70.0                     10.0      2024-02-05  \n",
            "4        52.0                     30.0      2024-01-26  \n",
            "\n",
            "\n"
          ]
        }
      ]
    },
    {
      "cell_type": "code",
      "source": [
        "print(\"=\"*50)\n",
        "print(\"🎯 ข้อมูลหลัก (Master Dataset) ที่จะใช้\")\n",
        "print(\"=\"*50)\n",
        "print(df_master)\n",
        "print(\"\\n📊 สรุปปัญหาที่พบในข้อมูล:\")\n",
        "print(f\"- ค่าหายทั้งหมด: {df_master.isnull().sum().sum()} ค่า\")\n",
        "print(f\"- อายุผิดปกติ: {df_master[df_master['อายุ'] > 100]['อายุ'].values if any(df_master['อายุ'] > 100) else 'ไม่มี'}\")\n",
        "print(f\"- GPA ผิดปกติ: {df_master[(df_master['GPA'] < 0) | (df_master['GPA'] > 4)]['GPA'].values if any((df_master['GPA'] < 0) | (df_master['GPA'] > 4)) else 'ไม่มี'}\")\n",
        "print(f\"- รูปแบบการเขียนคณะ: {df_master['คณะ'].nunique()} แบบ\")\n",
        "print(f\"- รูปแบบการเขียนเพศ: {df_master['เพศ'].nunique()} แบบ\")"
      ],
      "metadata": {
        "colab": {
          "base_uri": "https://localhost:8080/"
        },
        "id": "7u5q0n8gWecH",
        "outputId": "7588781f-d95a-4861-ea5a-7b10fd49e772"
      },
      "execution_count": 69,
      "outputs": [
        {
          "output_type": "stream",
          "name": "stdout",
          "text": [
            "==================================================\n",
            "🎯 ข้อมูลหลัก (Master Dataset) ที่จะใช้\n",
            "==================================================\n",
            "    รหัสนักศึกษา      ชื่อ   อายุ     เพศ             คณะ   GPA  ส่วนสูง_cm  \\\n",
            "0          64001     สมชาย   20.0     ชาย     วิทยาศาสตร์  3.21       170.0   \n",
            "1          64002    สมหญิง   21.0    หญิง           วิทย์  3.45       165.0   \n",
            "2          64003   ไม่ระบุ    NaN    Male         Science  3.67       175.0   \n",
            "3          64004  สมศักดิ์   22.0       ช  คณะวิทยาศาสตร์ -1.00       168.0   \n",
            "4          64005      สมใจ   19.0       ญ           วิศวะ  3.89       160.0   \n",
            "5          64006     กานต์  150.0     ชาย     Engineering  3.12       172.0   \n",
            "6          64007     กิตติ   21.0    หญิง        วิศวกรรม  4.50       158.0   \n",
            "7          64008      จิรา   20.0       F      ศิลปศาสตร์  2.98       180.0   \n",
            "8          64009    ชนาธิป   23.0       M            Arts  3.34       163.0   \n",
            "9          64010      ดารา   21.0    หญิง           ศิลป์  3.56       167.0   \n",
            "10         64011      ธีระ    NaN     NaN             NaN  3.78         NaN   \n",
            "11         64012       นภา   22.0     ชาย           วิทย์   NaN       171.0   \n",
            "12         64013     บุญมี   20.0    หญิง           วิศวฯ  3.23       169.0   \n",
            "13         64014     ปรีชา   21.0     ชาย    Liberal Arts  3.45       164.0   \n",
            "14         64015     พิมพ์   22.0  Female             Sci  3.67       162.0   \n",
            "15         64016      ภูมิ   19.0       ช     วิทยาศาสตร์  3.89       173.0   \n",
            "16         64017      มานี   20.0       ญ  วิศวกรรมศาสตร์  3.01       166.0   \n",
            "17         64018      ยุพา   21.0    หญิง             NaN  3.23       161.0   \n",
            "18         64019     รัตนา    NaN     ชาย      ศิลปศาสตร์   NaN       174.0   \n",
            "19         64020     ลัดดา   22.0     NaN         Science  3.45       168.0   \n",
            "\n",
            "    น้ำหนัก_kg  ชั่วโมงเรียน_ต่อสัปดาห์ วันที่ลงทะเบียน  \n",
            "0         65.0                     15.0      2023-12-31  \n",
            "1         58.0                     20.0      2023-12-16  \n",
            "2          NaN                     25.0      2024-01-02  \n",
            "3         70.0                     10.0      2024-02-05  \n",
            "4         52.0                     30.0      2024-01-26  \n",
            "5         75.0                     12.0      2024-02-07  \n",
            "6         48.0                     35.0      2024-01-06  \n",
            "7         82.0                     18.0      2024-02-01  \n",
            "8         55.0                     22.0      2024-01-28  \n",
            "9         60.0                     28.0      2024-02-02  \n",
            "10        68.0                      NaN      2023-12-30  \n",
            "11         NaN                     16.0      2024-01-10  \n",
            "12        72.0                     24.0      2023-12-24  \n",
            "13        54.0                     19.0      2024-01-15  \n",
            "14        56.0                     26.0      2024-01-15  \n",
            "15        78.0                     14.0      2024-01-14  \n",
            "16        62.0                     21.0      2024-01-20  \n",
            "17        50.0                     27.0      2024-01-19  \n",
            "18        76.0                      NaN      2023-12-22  \n",
            "19        64.0                     23.0      2024-01-10  \n",
            "\n",
            "📊 สรุปปัญหาที่พบในข้อมูล:\n",
            "- ค่าหายทั้งหมด: 14 ค่า\n",
            "- อายุผิดปกติ: [150.]\n",
            "- GPA ผิดปกติ: [-1.   4.5]\n",
            "- รูปแบบการเขียนคณะ: 14 แบบ\n",
            "- รูปแบบการเขียนเพศ: 8 แบบ\n"
          ]
        }
      ]
    },
    {
      "cell_type": "code",
      "source": [
        "# วิเคราะห์ข้อมูล df_master ที่สร้างไว้\n",
        "\n",
        "print(\"=\"*50)\n",
        "print(\"📋 ข้อมูลทั่วไปของ Dataset\")\n",
        "print(\"=\"*50)\n",
        "df_master.info()\n",
        "\n",
        "print(\"\\n\" + \"=\"*50)\n",
        "print(\"📊 สถิติเชิงพรรณนา\")\n",
        "print(\"=\"*50)\n",
        "print(df_master.describe())"
      ],
      "metadata": {
        "colab": {
          "base_uri": "https://localhost:8080/"
        },
        "id": "R3LlmGf2WeZT",
        "outputId": "deb97909-f939-48fb-ef91-eb18fe2c1395"
      },
      "execution_count": 70,
      "outputs": [
        {
          "output_type": "stream",
          "name": "stdout",
          "text": [
            "==================================================\n",
            "📋 ข้อมูลทั่วไปของ Dataset\n",
            "==================================================\n",
            "<class 'pandas.core.frame.DataFrame'>\n",
            "RangeIndex: 20 entries, 0 to 19\n",
            "Data columns (total 10 columns):\n",
            " #   Column                   Non-Null Count  Dtype         \n",
            "---  ------                   --------------  -----         \n",
            " 0   รหัสนักศึกษา             20 non-null     int64         \n",
            " 1   ชื่อ                     20 non-null     object        \n",
            " 2   อายุ                     17 non-null     float64       \n",
            " 3   เพศ                      18 non-null     object        \n",
            " 4   คณะ                      18 non-null     object        \n",
            " 5   GPA                      18 non-null     float64       \n",
            " 6   ส่วนสูง_cm               19 non-null     float64       \n",
            " 7   น้ำหนัก_kg               18 non-null     float64       \n",
            " 8   ชั่วโมงเรียน_ต่อสัปดาห์  18 non-null     float64       \n",
            " 9   วันที่ลงทะเบียน          20 non-null     datetime64[ns]\n",
            "dtypes: datetime64[ns](1), float64(5), int64(1), object(3)\n",
            "memory usage: 1.7+ KB\n",
            "\n",
            "==================================================\n",
            "📊 สถิติเชิงพรรณนา\n",
            "==================================================\n",
            "       รหัสนักศึกษา        อายุ        GPA  ส่วนสูง_cm  น้ำหนัก_kg  \\\n",
            "count      20.00000   17.000000  18.000000   19.000000   18.000000   \n",
            "mean    64010.50000   28.470588   3.246111  167.684211   63.611111   \n",
            "min     64001.00000   19.000000  -1.000000  158.000000   48.000000   \n",
            "25%     64005.75000   20.000000   3.215000  163.500000   55.250000   \n",
            "50%     64010.50000   21.000000   3.450000  168.000000   63.000000   \n",
            "75%     64015.25000   22.000000   3.670000  171.500000   71.500000   \n",
            "max     64020.00000  150.000000   4.500000  180.000000   82.000000   \n",
            "std         5.91608   31.337114   1.123326    5.706260   10.279270   \n",
            "\n",
            "       ชั่วโมงเรียน_ต่อสัปดาห์      วันที่ลงทะเบียน  \n",
            "count                18.000000                   20  \n",
            "mean                 21.388889  2024-01-13 14:24:00  \n",
            "min                  10.000000  2023-12-16 00:00:00  \n",
            "25%                  16.500000  2024-01-01 12:00:00  \n",
            "50%                  21.500000  2024-01-14 12:00:00  \n",
            "75%                  25.750000  2024-01-26 12:00:00  \n",
            "max                  35.000000  2024-02-07 00:00:00  \n",
            "std                   6.598920                  NaN  \n"
          ]
        }
      ]
    },
    {
      "cell_type": "code",
      "source": [
        "# ตรวจสอบจำวนค่าที่หายในแต่ละคอลัมน์\n",
        "\n",
        "missing_counts = df_master.isnull().sum()\n",
        "print(\"\\n❌ ค่าหายในแต่ละคอลัมน์:\")\n",
        "for col, count in missing_counts[missing_counts > 0].items():\n",
        "    percentage = (count / len(df_master)) * 100\n",
        "    print(f\"   - {col}: {count} ค่า ({percentage:.1f}%)\")"
      ],
      "metadata": {
        "colab": {
          "base_uri": "https://localhost:8080/"
        },
        "id": "FEc5oyc6yiqy",
        "outputId": "28fde64f-9903-47fb-d287-09a630833633"
      },
      "execution_count": 71,
      "outputs": [
        {
          "output_type": "stream",
          "name": "stdout",
          "text": [
            "\n",
            "❌ ค่าหายในแต่ละคอลัมน์:\n",
            "   - อายุ: 3 ค่า (15.0%)\n",
            "   - เพศ: 2 ค่า (10.0%)\n",
            "   - คณะ: 2 ค่า (10.0%)\n",
            "   - GPA: 2 ค่า (10.0%)\n",
            "   - ส่วนสูง_cm: 1 ค่า (5.0%)\n",
            "   - น้ำหนัก_kg: 2 ค่า (10.0%)\n",
            "   - ชั่วโมงเรียน_ต่อสัปดาห์: 2 ค่า (10.0%)\n"
          ]
        }
      ]
    },
    {
      "cell_type": "code",
      "source": [
        "# Step 1 ทำ Data Preparation\n",
        "\n",
        "# ชื่อที่หาย - ใช้ \"ไม่ระบุ\"\n",
        "# สร้าง df\n",
        "df_clean = df_master.copy()\n",
        "df_clean['ชื่อ'].fillna('ไม่ระบุ', inplace=True)\n",
        "\n",
        "# สร้าง log การแก้ไข\n",
        "changes_log = []\n",
        "changes_log.append(\"แทนค่าชื่อที่หายไปด้วย 'ไม่ระบุ'\")"
      ],
      "metadata": {
        "colab": {
          "base_uri": "https://localhost:8080/"
        },
        "id": "1X5suc2DyioJ",
        "outputId": "ddf25dda-fcb0-4a56-d9ea-37905cc95a21"
      },
      "execution_count": 72,
      "outputs": [
        {
          "output_type": "stream",
          "name": "stderr",
          "text": [
            "/tmp/ipython-input-2830116522.py:6: FutureWarning: A value is trying to be set on a copy of a DataFrame or Series through chained assignment using an inplace method.\n",
            "The behavior will change in pandas 3.0. This inplace method will never work because the intermediate object on which we are setting values always behaves as a copy.\n",
            "\n",
            "For example, when doing 'df[col].method(value, inplace=True)', try using 'df.method({col: value}, inplace=True)' or df[col] = df[col].method(value) instead, to perform the operation inplace on the original object.\n",
            "\n",
            "\n",
            "  df_clean['ชื่อ'].fillna('ไม่ระบุ', inplace=True)\n"
          ]
        }
      ]
    },
    {
      "cell_type": "code",
      "source": [
        "# อายุที่มีค่าผิดปกติ = 150 ใช้ \"ลบ\", อายุที่หาย ใช้ \"Mean\"\n",
        "df_clean = df_clean[df_clean['อายุ'] != 150]\n",
        "df_clean['อายุ'].fillna(round(df_clean['อายุ'].mean(), 2), inplace=True)\n",
        "\n",
        "# วิธีง่ายๆ - ใช้ IQR (Interquartile Range)\n",
        "Q1 = df_clean['อายุ'].quantile(0.25)\n",
        "Q3 = df_clean['อายุ'].quantile(0.75)\n",
        "IQR = Q3 - Q1\n",
        "\n",
        "# กำหนดขอบเขต\n",
        "lower_bound = Q1 - 1.5 * IQR\n",
        "upper_bound = Q3 + 1.5 * IQR\n",
        "\n",
        "# กรองค่าผิดปกติ\n",
        "df_no_outliers = df_clean[(df_clean['อายุ'] >= lower_bound) & (df_clean['อายุ'] <= upper_bound)]\n",
        "\n",
        "# สร้าง log การแก้ไข\n",
        "changes_log.append(\"แทนค่าอายุที่ผิดปกติ, หายไป ด้วยการแทนค่า 'mean'\")"
      ],
      "metadata": {
        "colab": {
          "base_uri": "https://localhost:8080/"
        },
        "id": "rSW7M41Wv2Oi",
        "outputId": "a29071ae-f0a5-4e28-cd01-107478025522"
      },
      "execution_count": 73,
      "outputs": [
        {
          "output_type": "stream",
          "name": "stderr",
          "text": [
            "/tmp/ipython-input-2431485227.py:3: FutureWarning: A value is trying to be set on a copy of a DataFrame or Series through chained assignment using an inplace method.\n",
            "The behavior will change in pandas 3.0. This inplace method will never work because the intermediate object on which we are setting values always behaves as a copy.\n",
            "\n",
            "For example, when doing 'df[col].method(value, inplace=True)', try using 'df.method({col: value}, inplace=True)' or df[col] = df[col].method(value) instead, to perform the operation inplace on the original object.\n",
            "\n",
            "\n",
            "  df_clean['อายุ'].fillna(round(df_clean['อายุ'].mean(), 2), inplace=True)\n"
          ]
        }
      ]
    },
    {
      "cell_type": "code",
      "source": [
        "# ฟังก์ชันจัดการเพศให้เป็นมาตรฐาน\n",
        "def standardize_sex(sex):\n",
        "    if pd.isna(sex):  # ถ้า missing ก็ส่งกลับไปก่อน\n",
        "        return None\n",
        "    sex = sex.strip()  # ตัดช่องว่างเกิน\n",
        "    if sex in ['Male', 'M', 'ชาย', 'ช']:\n",
        "        return 'ชาย'\n",
        "    elif sex in ['Female', 'F', 'หญิง', 'ญ']:\n",
        "        return 'หญิง'\n",
        "    else:\n",
        "        return sex\n",
        "\n",
        "# Standardize เพศ\n",
        "df_clean['เพศ'] = df_clean['เพศ'].apply(standardize_sex)\n",
        "\n",
        "# เติมค่าเพศที่หายเป็น \"ไม่ระบุ\"\n",
        "df_clean['เพศ'].fillna('ไม่ระบุ', inplace=True)\n",
        "\n",
        "# สร้าง log\n",
        "changes_log.append(\"ทำ standardize คอลัมน์ของเพศ\")\n",
        "changes_log.append(\"แทนค่าเพศที่หายไป ด้วยการแทนค่า 'ไม่ระบุ'\")\n"
      ],
      "metadata": {
        "colab": {
          "base_uri": "https://localhost:8080/"
        },
        "id": "GiBHefawwB9q",
        "outputId": "5d4eddea-4964-46d6-9c4e-67d889fbf719"
      },
      "execution_count": 74,
      "outputs": [
        {
          "output_type": "stream",
          "name": "stderr",
          "text": [
            "/tmp/ipython-input-1633527679.py:17: FutureWarning: A value is trying to be set on a copy of a DataFrame or Series through chained assignment using an inplace method.\n",
            "The behavior will change in pandas 3.0. This inplace method will never work because the intermediate object on which we are setting values always behaves as a copy.\n",
            "\n",
            "For example, when doing 'df[col].method(value, inplace=True)', try using 'df.method({col: value}, inplace=True)' or df[col] = df[col].method(value) instead, to perform the operation inplace on the original object.\n",
            "\n",
            "\n",
            "  df_clean['เพศ'].fillna('ไม่ระบุ', inplace=True)\n"
          ]
        }
      ]
    },
    {
      "cell_type": "code",
      "source": [
        "# ฟังก์ชันจัดการคณะให้เป็นมาตรฐาน\n",
        "def standardize_major(major):\n",
        "    if pd.isna(major):  # ถ้า missing ก็ส่งกลับไปก่อน\n",
        "        return None\n",
        "    major = major.strip()  # ตัดช่องว่างเกิน\n",
        "    if major in [\"วิทยาศาสตร์\", \"วิทย์\", \"Science\", \"คณะวิทยาศาสตร์\", \"Sci\"]:\n",
        "        return \"วิทยาศาสตร์\"\n",
        "    elif major in [\"Engineering\", \"วิศวะ\", \"วิศวกรรม\", \"วิศวฯ\", \"วิศวกรรมศาสตร์\"]:\n",
        "        return \"วิศวกรรมศาสตร์\"\n",
        "    elif major in [\"ศิลปศาสตร์\", \"Arts\", \"ศิลป์\", \"Liberal Arts\"]:\n",
        "        return \"ศิลปศาสตร์\"\n",
        "    else:\n",
        "        return major\n",
        "\n",
        "# Standardize คณะ\n",
        "df_clean['คณะ'] = df_clean['คณะ'].apply(standardize_major)\n",
        "\n",
        "# เติมค่าคณะที่หายเป็น \"ไม่ระบุ\"\n",
        "df_clean['คณะ'].fillna(df_clean['คณะ'].mode()[0], inplace=True)\n",
        "\n",
        "# สร้าง log\n",
        "changes_log.append(\"ทำ standardize คอลัมน์ของคณะ\")\n",
        "changes_log.append(\"แทนค่าคณะที่หายไป ด้วยใช้ค่าที่พบบ่อยที่สุด\")\n",
        "\n"
      ],
      "metadata": {
        "colab": {
          "base_uri": "https://localhost:8080/"
        },
        "id": "EntqJJVgwB6W",
        "outputId": "c42447ef-0dd1-412c-8fa6-072341b21bf7"
      },
      "execution_count": 75,
      "outputs": [
        {
          "output_type": "stream",
          "name": "stderr",
          "text": [
            "/tmp/ipython-input-1248120101.py:19: FutureWarning: A value is trying to be set on a copy of a DataFrame or Series through chained assignment using an inplace method.\n",
            "The behavior will change in pandas 3.0. This inplace method will never work because the intermediate object on which we are setting values always behaves as a copy.\n",
            "\n",
            "For example, when doing 'df[col].method(value, inplace=True)', try using 'df.method({col: value}, inplace=True)' or df[col] = df[col].method(value) instead, to perform the operation inplace on the original object.\n",
            "\n",
            "\n",
            "  df_clean['คณะ'].fillna(df_clean['คณะ'].mode()[0], inplace=True)\n"
          ]
        }
      ]
    },
    {
      "cell_type": "code",
      "source": [
        "# ส่วนสูง, น้ำหนักที่, ชั่วโมงเรียนที่หาย ใช้ \"Mean\"\n",
        "df_clean['ส่วนสูง_cm'].fillna(round(df_clean['ส่วนสูง_cm'].mean(), 2), inplace=True)\n",
        "df_clean['น้ำหนัก_kg'].fillna(round(df_clean['น้ำหนัก_kg'].mean(), 2), inplace=True)\n",
        "df_clean['ชั่วโมงเรียน_ต่อสัปดาห์'].fillna(round(df_clean['ชั่วโมงเรียน_ต่อสัปดาห์'].mean(), 2), inplace=True)\n",
        "\n",
        "# สร้าง log การแก้ไข\n",
        "changes_log.append(\"แทนค่าส่วนสูงที่หายไป ด้วยการแทนค่า 'mean'\")\n",
        "changes_log.append(\"แทนค่าน้ำหนักที่หายไป ด้วยการแทนค่า 'mean'\")\n",
        "changes_log.append(\"แทนค่าชั่วโมงเรียนที่หายไป ด้วยการแทนค่า 'mean'\")"
      ],
      "metadata": {
        "colab": {
          "base_uri": "https://localhost:8080/"
        },
        "id": "8Y8AT7-UwB3N",
        "outputId": "04552756-dec1-4802-b206-d11f2a557ff7"
      },
      "execution_count": 76,
      "outputs": [
        {
          "output_type": "stream",
          "name": "stderr",
          "text": [
            "/tmp/ipython-input-4087199539.py:2: FutureWarning: A value is trying to be set on a copy of a DataFrame or Series through chained assignment using an inplace method.\n",
            "The behavior will change in pandas 3.0. This inplace method will never work because the intermediate object on which we are setting values always behaves as a copy.\n",
            "\n",
            "For example, when doing 'df[col].method(value, inplace=True)', try using 'df.method({col: value}, inplace=True)' or df[col] = df[col].method(value) instead, to perform the operation inplace on the original object.\n",
            "\n",
            "\n",
            "  df_clean['ส่วนสูง_cm'].fillna(round(df_clean['ส่วนสูง_cm'].mean(), 2), inplace=True)\n",
            "/tmp/ipython-input-4087199539.py:3: FutureWarning: A value is trying to be set on a copy of a DataFrame or Series through chained assignment using an inplace method.\n",
            "The behavior will change in pandas 3.0. This inplace method will never work because the intermediate object on which we are setting values always behaves as a copy.\n",
            "\n",
            "For example, when doing 'df[col].method(value, inplace=True)', try using 'df.method({col: value}, inplace=True)' or df[col] = df[col].method(value) instead, to perform the operation inplace on the original object.\n",
            "\n",
            "\n",
            "  df_clean['น้ำหนัก_kg'].fillna(round(df_clean['น้ำหนัก_kg'].mean(), 2), inplace=True)\n",
            "/tmp/ipython-input-4087199539.py:4: FutureWarning: A value is trying to be set on a copy of a DataFrame or Series through chained assignment using an inplace method.\n",
            "The behavior will change in pandas 3.0. This inplace method will never work because the intermediate object on which we are setting values always behaves as a copy.\n",
            "\n",
            "For example, when doing 'df[col].method(value, inplace=True)', try using 'df.method({col: value}, inplace=True)' or df[col] = df[col].method(value) instead, to perform the operation inplace on the original object.\n",
            "\n",
            "\n",
            "  df_clean['ชั่วโมงเรียน_ต่อสัปดาห์'].fillna(round(df_clean['ชั่วโมงเรียน_ต่อสัปดาห์'].mean(), 2), inplace=True)\n"
          ]
        }
      ]
    },
    {
      "cell_type": "code",
      "source": [
        "# Step 2 ทำ Feature Engineering\n",
        "\n",
        "# สร้าง BMI จากส่วนสูงและน้ำหนัก\n",
        "# เลือกคอลัมน์ที่ต้องใช้\n",
        "student_health = df_clean[['ชื่อ', 'ส่วนสูง_cm', 'น้ำหนัก_kg']].copy()\n",
        "\n",
        "# คำนวณ BMI\n",
        "student_health['BMI'] = round(\n",
        "    student_health['น้ำหนัก_kg'] / (student_health['ส่วนสูง_cm'] / 100) ** 2, 2)\n",
        "\n",
        "\n",
        "# จัดประเภทสุขภาพตาม BMI\n",
        "student_health['สุขภาพ'] = pd.cut(\n",
        "    student_health['BMI'],\n",
        "    bins=[0, 18.5, 25, 30, 100],\n",
        "    labels=['ผอม', 'ปกติ', 'อ้วน', 'อ้วนมาก']\n",
        ")\n",
        "\n",
        "# print(student_health[['ชื่อ', 'BMI', 'สุขภาพ']])\n",
        "\n",
        "# สร้าง log การแก้ไข\n",
        "changes_log.append(\"สร้าง BMI จากส่วนสูงและน้ำหนัก\")\n"
      ],
      "metadata": {
        "id": "xPWJueVmyij_"
      },
      "execution_count": 77,
      "outputs": []
    },
    {
      "cell_type": "code",
      "source": [
        "# แสดงผลลัพธ์การทำงานทั้้งหมด\n",
        "print('ตารางแสดงข้อมูลที่ผ่านการทำควาสะอาดแล้ว')\n",
        "print(df_clean)\n",
        "print('\\n')\n",
        "\n",
        "print('ตารางแสดง BMI จากส่วนสูงและน้ำหนัก')\n",
        "print(student_health[['ชื่อ', 'BMI', 'สุขภาพ']])\n",
        "print('\\n')\n",
        "\n",
        "print('แสดงประวัติการแก้ไข และเปลี่ยนแปลงข้อมูลหลัก')\n",
        "print(changes_log)\n",
        "\n",
        "\n"
      ],
      "metadata": {
        "colab": {
          "base_uri": "https://localhost:8080/"
        },
        "id": "D37-Q0DMyigi",
        "outputId": "705ef20f-6339-489b-89c7-e3a371a77321"
      },
      "execution_count": 78,
      "outputs": [
        {
          "output_type": "stream",
          "name": "stdout",
          "text": [
            "ตารางแสดงข้อมูลที่ผ่านการทำควาสะอาดแล้ว\n",
            "    รหัสนักศึกษา      ชื่อ   อายุ      เพศ             คณะ   GPA  ส่วนสูง_cm  \\\n",
            "0          64001     สมชาย  20.00      ชาย     วิทยาศาสตร์  3.21      170.00   \n",
            "1          64002    สมหญิง  21.00     หญิง     วิทยาศาสตร์  3.45      165.00   \n",
            "2          64003   ไม่ระบุ  20.88      ชาย     วิทยาศาสตร์  3.67      175.00   \n",
            "3          64004  สมศักดิ์  22.00      ชาย     วิทยาศาสตร์ -1.00      168.00   \n",
            "4          64005      สมใจ  19.00     หญิง  วิศวกรรมศาสตร์  3.89      160.00   \n",
            "6          64007     กิตติ  21.00     หญิง  วิศวกรรมศาสตร์  4.50      158.00   \n",
            "7          64008      จิรา  20.00     หญิง      ศิลปศาสตร์  2.98      180.00   \n",
            "8          64009    ชนาธิป  23.00      ชาย      ศิลปศาสตร์  3.34      163.00   \n",
            "9          64010      ดารา  21.00     หญิง      ศิลปศาสตร์  3.56      167.00   \n",
            "10         64011      ธีระ  20.88  ไม่ระบุ     วิทยาศาสตร์  3.78      167.44   \n",
            "11         64012       นภา  22.00      ชาย     วิทยาศาสตร์   NaN      171.00   \n",
            "12         64013     บุญมี  20.00     หญิง  วิศวกรรมศาสตร์  3.23      169.00   \n",
            "13         64014     ปรีชา  21.00      ชาย      ศิลปศาสตร์  3.45      164.00   \n",
            "14         64015     พิมพ์  22.00     หญิง     วิทยาศาสตร์  3.67      162.00   \n",
            "15         64016      ภูมิ  19.00      ชาย     วิทยาศาสตร์  3.89      173.00   \n",
            "16         64017      มานี  20.00     หญิง  วิศวกรรมศาสตร์  3.01      166.00   \n",
            "17         64018      ยุพา  21.00     หญิง     วิทยาศาสตร์  3.23      161.00   \n",
            "18         64019     รัตนา  20.88      ชาย      ศิลปศาสตร์   NaN      174.00   \n",
            "19         64020     ลัดดา  22.00  ไม่ระบุ     วิทยาศาสตร์  3.45      168.00   \n",
            "\n",
            "    น้ำหนัก_kg  ชั่วโมงเรียน_ต่อสัปดาห์ วันที่ลงทะเบียน  \n",
            "0        65.00                    15.00      2023-12-31  \n",
            "1        58.00                    20.00      2023-12-16  \n",
            "2        62.94                    25.00      2024-01-02  \n",
            "3        70.00                    10.00      2024-02-05  \n",
            "4        52.00                    30.00      2024-01-26  \n",
            "6        48.00                    35.00      2024-01-06  \n",
            "7        82.00                    18.00      2024-02-01  \n",
            "8        55.00                    22.00      2024-01-28  \n",
            "9        60.00                    28.00      2024-02-02  \n",
            "10       68.00                    21.94      2023-12-30  \n",
            "11       62.94                    16.00      2024-01-10  \n",
            "12       72.00                    24.00      2023-12-24  \n",
            "13       54.00                    19.00      2024-01-15  \n",
            "14       56.00                    26.00      2024-01-15  \n",
            "15       78.00                    14.00      2024-01-14  \n",
            "16       62.00                    21.00      2024-01-20  \n",
            "17       50.00                    27.00      2024-01-19  \n",
            "18       76.00                    21.94      2023-12-22  \n",
            "19       64.00                    23.00      2024-01-10  \n",
            "\n",
            "\n",
            "ตารางแสดง BMI จากส่วนสูงและน้ำหนัก\n",
            "        ชื่อ    BMI สุขภาพ\n",
            "0      สมชาย  22.49   ปกติ\n",
            "1     สมหญิง  21.30   ปกติ\n",
            "2    ไม่ระบุ  20.55   ปกติ\n",
            "3   สมศักดิ์  24.80   ปกติ\n",
            "4       สมใจ  20.31   ปกติ\n",
            "6      กิตติ  19.23   ปกติ\n",
            "7       จิรา  25.31   อ้วน\n",
            "8     ชนาธิป  20.70   ปกติ\n",
            "9       ดารา  21.51   ปกติ\n",
            "10      ธีระ  24.25   ปกติ\n",
            "11       นภา  21.52   ปกติ\n",
            "12     บุญมี  25.21   อ้วน\n",
            "13     ปรีชา  20.08   ปกติ\n",
            "14     พิมพ์  21.34   ปกติ\n",
            "15      ภูมิ  26.06   อ้วน\n",
            "16      มานี  22.50   ปกติ\n",
            "17      ยุพา  19.29   ปกติ\n",
            "18     รัตนา  25.10   อ้วน\n",
            "19     ลัดดา  22.68   ปกติ\n",
            "\n",
            "\n",
            "แสดงประวัติการแก้ไข และเปลี่ยนแปลงข้อมูลหลัก\n",
            "[\"แทนค่าชื่อที่หายไปด้วย 'ไม่ระบุ'\", \"แทนค่าอายุที่ผิดปกติ, หายไป ด้วยการแทนค่า 'mean'\", 'ทำ standardize คอลัมน์ของเพศ', \"แทนค่าเพศที่หายไป ด้วยการแทนค่า 'ไม่ระบุ'\", 'ทำ standardize คอลัมน์ของคณะ', 'แทนค่าคณะที่หายไป ด้วยใช้ค่าที่พบบ่อยที่สุด', \"แทนค่าส่วนสูงที่หายไป ด้วยการแทนค่า 'mean'\", \"แทนค่าน้ำหนักที่หายไป ด้วยการแทนค่า 'mean'\", \"แทนค่าชั่วโมงเรียนที่หายไป ด้วยการแทนค่า 'mean'\", 'สร้าง BMI จากส่วนสูงและน้ำหนัก']\n"
          ]
        }
      ]
    }
  ]
}